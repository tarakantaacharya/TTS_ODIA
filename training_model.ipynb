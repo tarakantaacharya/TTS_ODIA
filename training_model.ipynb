{
  "nbformat": 4,
  "nbformat_minor": 0,
  "metadata": {
    "colab": {
      "provenance": [],
      "authorship_tag": "ABX9TyOyLkr6H8M3M/WtnfUjfHA5",
      "include_colab_link": true
    },
    "kernelspec": {
      "name": "python3",
      "display_name": "Python 3"
    },
    "language_info": {
      "name": "python"
    },
    "widgets": {
      "application/vnd.jupyter.widget-state+json": {}
    }
  },
  "cells": [
    {
      "cell_type": "markdown",
      "metadata": {
        "id": "view-in-github",
        "colab_type": "text"
      },
      "source": [
        "<a href=\"https://colab.research.google.com/github/tarakantaacharya/TTS_ODIA/blob/main/training_model.ipynb\" target=\"_parent\"><img src=\"https://colab.research.google.com/assets/colab-badge.svg\" alt=\"Open In Colab\"/></a>"
      ]
    },
    {
      "cell_type": "code",
      "source": [
        "! pip install datasets"
      ],
      "metadata": {
        "colab": {
          "base_uri": "https://localhost:8080/"
        },
        "id": "Z9z9x7pckEa9",
        "outputId": "6c589cb9-d6c4-46fd-ee1e-cda3f8d94f2c"
      },
      "execution_count": 2,
      "outputs": [
        {
          "output_type": "stream",
          "name": "stdout",
          "text": [
            "Requirement already satisfied: datasets in /usr/local/lib/python3.11/dist-packages (3.3.1)\n",
            "Requirement already satisfied: filelock in /usr/local/lib/python3.11/dist-packages (from datasets) (3.17.0)\n",
            "Requirement already satisfied: numpy>=1.17 in /usr/local/lib/python3.11/dist-packages (from datasets) (1.26.4)\n",
            "Requirement already satisfied: pyarrow>=15.0.0 in /usr/local/lib/python3.11/dist-packages (from datasets) (17.0.0)\n",
            "Requirement already satisfied: dill<0.3.9,>=0.3.0 in /usr/local/lib/python3.11/dist-packages (from datasets) (0.3.8)\n",
            "Requirement already satisfied: pandas in /usr/local/lib/python3.11/dist-packages (from datasets) (2.2.2)\n",
            "Requirement already satisfied: requests>=2.32.2 in /usr/local/lib/python3.11/dist-packages (from datasets) (2.32.3)\n",
            "Requirement already satisfied: tqdm>=4.66.3 in /usr/local/lib/python3.11/dist-packages (from datasets) (4.67.1)\n",
            "Requirement already satisfied: xxhash in /usr/local/lib/python3.11/dist-packages (from datasets) (3.5.0)\n",
            "Requirement already satisfied: multiprocess<0.70.17 in /usr/local/lib/python3.11/dist-packages (from datasets) (0.70.16)\n",
            "Requirement already satisfied: fsspec<=2024.12.0,>=2023.1.0 in /usr/local/lib/python3.11/dist-packages (from fsspec[http]<=2024.12.0,>=2023.1.0->datasets) (2024.10.0)\n",
            "Requirement already satisfied: aiohttp in /usr/local/lib/python3.11/dist-packages (from datasets) (3.11.12)\n",
            "Requirement already satisfied: huggingface-hub>=0.24.0 in /usr/local/lib/python3.11/dist-packages (from datasets) (0.28.1)\n",
            "Requirement already satisfied: packaging in /usr/local/lib/python3.11/dist-packages (from datasets) (24.2)\n",
            "Requirement already satisfied: pyyaml>=5.1 in /usr/local/lib/python3.11/dist-packages (from datasets) (6.0.2)\n",
            "Requirement already satisfied: aiohappyeyeballs>=2.3.0 in /usr/local/lib/python3.11/dist-packages (from aiohttp->datasets) (2.4.6)\n",
            "Requirement already satisfied: aiosignal>=1.1.2 in /usr/local/lib/python3.11/dist-packages (from aiohttp->datasets) (1.3.2)\n",
            "Requirement already satisfied: attrs>=17.3.0 in /usr/local/lib/python3.11/dist-packages (from aiohttp->datasets) (25.1.0)\n",
            "Requirement already satisfied: frozenlist>=1.1.1 in /usr/local/lib/python3.11/dist-packages (from aiohttp->datasets) (1.5.0)\n",
            "Requirement already satisfied: multidict<7.0,>=4.5 in /usr/local/lib/python3.11/dist-packages (from aiohttp->datasets) (6.1.0)\n",
            "Requirement already satisfied: propcache>=0.2.0 in /usr/local/lib/python3.11/dist-packages (from aiohttp->datasets) (0.2.1)\n",
            "Requirement already satisfied: yarl<2.0,>=1.17.0 in /usr/local/lib/python3.11/dist-packages (from aiohttp->datasets) (1.18.3)\n",
            "Requirement already satisfied: typing-extensions>=3.7.4.3 in /usr/local/lib/python3.11/dist-packages (from huggingface-hub>=0.24.0->datasets) (4.12.2)\n",
            "Requirement already satisfied: charset-normalizer<4,>=2 in /usr/local/lib/python3.11/dist-packages (from requests>=2.32.2->datasets) (3.4.1)\n",
            "Requirement already satisfied: idna<4,>=2.5 in /usr/local/lib/python3.11/dist-packages (from requests>=2.32.2->datasets) (3.10)\n",
            "Requirement already satisfied: urllib3<3,>=1.21.1 in /usr/local/lib/python3.11/dist-packages (from requests>=2.32.2->datasets) (2.3.0)\n",
            "Requirement already satisfied: certifi>=2017.4.17 in /usr/local/lib/python3.11/dist-packages (from requests>=2.32.2->datasets) (2025.1.31)\n",
            "Requirement already satisfied: python-dateutil>=2.8.2 in /usr/local/lib/python3.11/dist-packages (from pandas->datasets) (2.8.2)\n",
            "Requirement already satisfied: pytz>=2020.1 in /usr/local/lib/python3.11/dist-packages (from pandas->datasets) (2025.1)\n",
            "Requirement already satisfied: tzdata>=2022.7 in /usr/local/lib/python3.11/dist-packages (from pandas->datasets) (2025.1)\n",
            "Requirement already satisfied: six>=1.5 in /usr/local/lib/python3.11/dist-packages (from python-dateutil>=2.8.2->pandas->datasets) (1.17.0)\n"
          ]
        }
      ]
    },
    {
      "cell_type": "code",
      "source": [
        "import pandas as pd"
      ],
      "metadata": {
        "id": "uTC_5Ye4ABrg"
      },
      "execution_count": null,
      "outputs": []
    },
    {
      "cell_type": "code",
      "source": [
        "new_preprocess_data = pd.read_json('/content/new_preprocess_data.json')"
      ],
      "metadata": {
        "id": "xt4GWC0UABrh"
      },
      "execution_count": null,
      "outputs": []
    },
    {
      "cell_type": "code",
      "source": [
        "new_preprocess_data.columns"
      ],
      "metadata": {
        "id": "0sb4YPlxABri"
      },
      "execution_count": null,
      "outputs": []
    },
    {
      "cell_type": "code",
      "source": [
        "new_preprocess_data.head()"
      ],
      "metadata": {
        "id": "jW9F5I62ABri"
      },
      "execution_count": null,
      "outputs": []
    },
    {
      "cell_type": "code",
      "source": [
        "from sklearn.model_selection import train_test_split\n",
        "\n",
        "# Split the DataFrame (90% train, 10% test)\n",
        "train_df, test_df = train_test_split(new_preprocess_data, test_size=0.1, random_state=42)\n",
        "\n",
        "# Check the sizes\n",
        "print(f\"Train Data: {len(train_df)} rows\")\n",
        "print(f\"Test Data: {len(test_df)} rows\")"
      ],
      "metadata": {
        "colab": {
          "base_uri": "https://localhost:8080/"
        },
        "id": "FYX3THv3-BEu",
        "outputId": "f38d2b02-30ac-4dea-c4b1-3a72da285c63"
      },
      "execution_count": null,
      "outputs": [
        {
          "output_type": "stream",
          "name": "stdout",
          "text": [
            "Train Data: 720 rows\n",
            "Test Data: 80 rows\n"
          ]
        }
      ]
    },
    {
      "cell_type": "code",
      "source": [
        "import pandas as pd\n",
        "from datasets import Dataset\n",
        "\n",
        "# Convert pandas DataFrame to Hugging Face Dataset\n",
        "dataset_train = Dataset.from_pandas(train_df)\n",
        "dataset_test = Dataset.from_pandas(test_df)\n",
        "\n",
        "# Check if conversion was successful\n",
        "print(dataset_train)\n",
        "print(dataset_test)"
      ],
      "metadata": {
        "colab": {
          "base_uri": "https://localhost:8080/"
        },
        "id": "8yJv3BZe894t",
        "outputId": "36387c5c-04c8-40c2-d556-f09844683a5f"
      },
      "execution_count": null,
      "outputs": [
        {
          "output_type": "stream",
          "name": "stdout",
          "text": [
            "Dataset({\n",
            "    features: ['padded_audio', 'padded_text', '__index_level_0__'],\n",
            "    num_rows: 720\n",
            "})\n",
            "Dataset({\n",
            "    features: ['padded_audio', 'padded_text', '__index_level_0__'],\n",
            "    num_rows: 80\n",
            "})\n"
          ]
        }
      ]
    },
    {
      "cell_type": "code",
      "source": [
        "from transformers import AutoModelForTextToWaveform\n",
        "import torch\n",
        "\n",
        "# Load model in int8 quantization without bitsandbytes (works on CPU)\n",
        "model = AutoModelForTextToWaveform.from_pretrained(\n",
        "    \"facebook/mms-tts-ory\",\n",
        "    torch_dtype=torch.float16,  # Use int8 quantization (CPU-compatible)\n",
        "    device_map=\"cpu\"  # Force CPU usage\n",
        ")\n",
        "\n",
        "print(\"Model loaded with int8 quantization on CPU successfully!\")"
      ],
      "metadata": {
        "colab": {
          "base_uri": "https://localhost:8080/",
          "height": 98,
          "referenced_widgets": [
            "6ee8f3ff17014b339081e12645419360",
            "98122dfafd204126b993b2430ddb135a",
            "801be158049d4d54a1f432823f8e5645",
            "9a30924331614b86af62d02603739cdb",
            "3275d777e7b04a08aa1c081aa4215ce5",
            "8dc3f549c98841ee90508a17cd525547",
            "b686be3d0e4a41e891bb1e170166b7ff",
            "15353b78e8be434ca166f108b5946baf",
            "8dc50cb9e8da4d19ba984d10ffde528e",
            "b0ee4b9ed10844bbbba8eaadf733cd50",
            "ae08a03e3cc24f8d9cf5262d0ff99943",
            "8197514741c0487c8d296fabf8fd15ab",
            "9fffd1891577445c871d3c80fe093436",
            "61be5a3f5e6f489d80548ca819b50bec",
            "54de1fbd04af4996980cd58904a66397",
            "42606ef4e9944062b70d4487de5dc1f9",
            "66e324deba4845bc849029d795f772bc",
            "62c27c973ce74849aed11de85fadf94e",
            "e8c27abf25ad4d8abb1f666aead7640a",
            "e35b93cd609244d6a4c3d2d62db42dda",
            "a933b7dc888f4ce5828b55056de8236e",
            "9751b39adeb14e1195e3c33a7d958fc2"
          ]
        },
        "id": "X9njH5YR-mM9",
        "outputId": "a152c0a2-b564-4543-ad2e-6e1455d63db5"
      },
      "execution_count": null,
      "outputs": [
        {
          "output_type": "display_data",
          "data": {
            "text/plain": [
              "config.json:   0%|          | 0.00/1.64k [00:00<?, ?B/s]"
            ],
            "application/vnd.jupyter.widget-view+json": {
              "version_major": 2,
              "version_minor": 0,
              "model_id": "6ee8f3ff17014b339081e12645419360"
            }
          },
          "metadata": {}
        },
        {
          "output_type": "display_data",
          "data": {
            "text/plain": [
              "model.safetensors:   0%|          | 0.00/145M [00:00<?, ?B/s]"
            ],
            "application/vnd.jupyter.widget-view+json": {
              "version_major": 2,
              "version_minor": 0,
              "model_id": "8197514741c0487c8d296fabf8fd15ab"
            }
          },
          "metadata": {}
        },
        {
          "output_type": "stream",
          "name": "stdout",
          "text": [
            "Model loaded with int8 quantization on CPU successfully!\n"
          ]
        }
      ]
    },
    {
      "cell_type": "code",
      "source": [
        "from transformers import Trainer, TrainingArguments\n",
        "\n",
        "# Define a function to rename and select the desired columns\n",
        "def preprocess_function(examples):\n",
        "    return {\n",
        "        \"input_ids\": examples[\"padded_text\"],  # Rename 'padded_text' to 'input_ids'\n",
        "        \"labels\": examples[\"padded_audio\"]  # Rename 'padded_audio' to 'labels'\n",
        "    }\n",
        "\n",
        "# Apply the preprocessing function to your datasets\n",
        "dataset_train = dataset_train.map(preprocess_function, remove_columns=dataset_train.column_names)\n",
        "dataset_test = dataset_test.map(preprocess_function, remove_columns=dataset_test.column_names)\n",
        "\n",
        "\n",
        "# Training arguments with remove_unused_columns set to False\n",
        "training_args = TrainingArguments(\n",
        "    output_dir=\"./results\",  # Output directory for model checkpoints\n",
        "    evaluation_strategy=\"steps\",\n",
        "    num_train_epochs=3,  # Number of epochs for fine-tuning\n",
        "    per_device_train_batch_size=4,  # Use smaller batch size for CPU\n",
        "    per_device_eval_batch_size=8,\n",
        "    logging_dir=\"./logs\",\n",
        "    remove_unused_columns=False  # Ignore unused columns in dataset\n",
        ")\n",
        "\n",
        "# Trainer setup for fine-tuning\n",
        "trainer = Trainer(\n",
        "    model=model,  # Quantized model\n",
        "    args=training_args,\n",
        "    train_dataset=dataset_train,  # Your training data\n",
        "    eval_dataset=dataset_test,  # Your test data\n",
        ")\n",
        "\n",
        "# Fine-tune the model\n",
        "trainer.train()"
      ],
      "metadata": {
        "colab": {
          "base_uri": "https://localhost:8080/",
          "height": 49,
          "referenced_widgets": [
            "51b00247956c43cb8a2acda50b4053db",
            "a99f7089c65a46bb817ba5dc27750ef6",
            "d198af54d039499a80f98ae2da8cb03a",
            "43488bfc58c64b318701a7101328efcb",
            "4e4dbf95f4dc4e7f896b3b65b49f840a",
            "dd3d56a54fca425eb308f54ff495ebd4",
            "c98a8be6cc5141d69805216f1c4dcf0f",
            "c3a33412d3924b439f81c771ac348f16",
            "f730684afab141818fe30f16c47a2496",
            "d79d50fce6774dc692a732d53e018c5d",
            "cbf468dc4c3c4f5997f0452bc154fed9"
          ]
        },
        "id": "j0cZzU5l9ifs",
        "outputId": "6356ad5f-8e54-41ab-bdd6-67a1c02435f8"
      },
      "execution_count": null,
      "outputs": [
        {
          "output_type": "display_data",
          "data": {
            "text/plain": [
              "Map:   0%|          | 0/720 [00:00<?, ? examples/s]"
            ],
            "application/vnd.jupyter.widget-view+json": {
              "version_major": 2,
              "version_minor": 0,
              "model_id": "51b00247956c43cb8a2acda50b4053db"
            }
          },
          "metadata": {}
        }
      ]
    },
    {
      "cell_type": "markdown",
      "source": [
        "---"
      ],
      "metadata": {
        "id": "Vo1ZLBh3_zgP"
      }
    },
    {
      "cell_type": "markdown",
      "source": [
        "---"
      ],
      "metadata": {
        "id": "Bq7SUR4__1P8"
      }
    },
    {
      "cell_type": "code",
      "source": [
        "model"
      ],
      "metadata": {
        "colab": {
          "base_uri": "https://localhost:8080/"
        },
        "id": "4JoIpMGhqdvB",
        "outputId": "97f679da-3458-4f5f-99fe-3bca96bea782"
      },
      "execution_count": 4,
      "outputs": [
        {
          "output_type": "execute_result",
          "data": {
            "text/plain": [
              "VitsModel(\n",
              "  (text_encoder): VitsTextEncoder(\n",
              "    (embed_tokens): Embedding(76, 192)\n",
              "    (encoder): VitsEncoder(\n",
              "      (layers): ModuleList(\n",
              "        (0-5): 6 x VitsEncoderLayer(\n",
              "          (attention): VitsAttention(\n",
              "            (k_proj): Linear(in_features=192, out_features=192, bias=True)\n",
              "            (v_proj): Linear(in_features=192, out_features=192, bias=True)\n",
              "            (q_proj): Linear(in_features=192, out_features=192, bias=True)\n",
              "            (out_proj): Linear(in_features=192, out_features=192, bias=True)\n",
              "          )\n",
              "          (dropout): Dropout(p=0.1, inplace=False)\n",
              "          (layer_norm): LayerNorm((192,), eps=1e-05, elementwise_affine=True)\n",
              "          (feed_forward): VitsFeedForward(\n",
              "            (conv_1): Conv1d(192, 768, kernel_size=(3,), stride=(1,))\n",
              "            (conv_2): Conv1d(768, 192, kernel_size=(3,), stride=(1,))\n",
              "            (dropout): Dropout(p=0.1, inplace=False)\n",
              "            (act_fn): ReLU()\n",
              "          )\n",
              "          (final_layer_norm): LayerNorm((192,), eps=1e-05, elementwise_affine=True)\n",
              "        )\n",
              "      )\n",
              "    )\n",
              "    (project): Conv1d(192, 384, kernel_size=(1,), stride=(1,))\n",
              "  )\n",
              "  (flow): VitsResidualCouplingBlock(\n",
              "    (flows): ModuleList(\n",
              "      (0-3): 4 x VitsResidualCouplingLayer(\n",
              "        (conv_pre): Conv1d(96, 192, kernel_size=(1,), stride=(1,))\n",
              "        (wavenet): VitsWaveNet(\n",
              "          (in_layers): ModuleList(\n",
              "            (0-3): 4 x ParametrizedConv1d(\n",
              "              192, 384, kernel_size=(5,), stride=(1,), padding=(2,)\n",
              "              (parametrizations): ModuleDict(\n",
              "                (weight): ParametrizationList(\n",
              "                  (0): _WeightNorm()\n",
              "                )\n",
              "              )\n",
              "            )\n",
              "          )\n",
              "          (res_skip_layers): ModuleList(\n",
              "            (0-2): 3 x ParametrizedConv1d(\n",
              "              192, 384, kernel_size=(1,), stride=(1,)\n",
              "              (parametrizations): ModuleDict(\n",
              "                (weight): ParametrizationList(\n",
              "                  (0): _WeightNorm()\n",
              "                )\n",
              "              )\n",
              "            )\n",
              "            (3): ParametrizedConv1d(\n",
              "              192, 192, kernel_size=(1,), stride=(1,)\n",
              "              (parametrizations): ModuleDict(\n",
              "                (weight): ParametrizationList(\n",
              "                  (0): _WeightNorm()\n",
              "                )\n",
              "              )\n",
              "            )\n",
              "          )\n",
              "          (dropout): Dropout(p=0.0, inplace=False)\n",
              "        )\n",
              "        (conv_post): Conv1d(192, 96, kernel_size=(1,), stride=(1,))\n",
              "      )\n",
              "    )\n",
              "  )\n",
              "  (decoder): VitsHifiGan(\n",
              "    (conv_pre): Conv1d(192, 512, kernel_size=(7,), stride=(1,), padding=(3,))\n",
              "    (upsampler): ModuleList(\n",
              "      (0): ConvTranspose1d(512, 256, kernel_size=(16,), stride=(8,), padding=(4,))\n",
              "      (1): ConvTranspose1d(256, 128, kernel_size=(16,), stride=(8,), padding=(4,))\n",
              "      (2): ConvTranspose1d(128, 64, kernel_size=(4,), stride=(2,), padding=(1,))\n",
              "      (3): ConvTranspose1d(64, 32, kernel_size=(4,), stride=(2,), padding=(1,))\n",
              "    )\n",
              "    (resblocks): ModuleList(\n",
              "      (0): HifiGanResidualBlock(\n",
              "        (convs1): ModuleList(\n",
              "          (0): Conv1d(256, 256, kernel_size=(3,), stride=(1,), padding=(1,))\n",
              "          (1): Conv1d(256, 256, kernel_size=(3,), stride=(1,), padding=(3,), dilation=(3,))\n",
              "          (2): Conv1d(256, 256, kernel_size=(3,), stride=(1,), padding=(5,), dilation=(5,))\n",
              "        )\n",
              "        (convs2): ModuleList(\n",
              "          (0-2): 3 x Conv1d(256, 256, kernel_size=(3,), stride=(1,), padding=(1,))\n",
              "        )\n",
              "      )\n",
              "      (1): HifiGanResidualBlock(\n",
              "        (convs1): ModuleList(\n",
              "          (0): Conv1d(256, 256, kernel_size=(7,), stride=(1,), padding=(3,))\n",
              "          (1): Conv1d(256, 256, kernel_size=(7,), stride=(1,), padding=(9,), dilation=(3,))\n",
              "          (2): Conv1d(256, 256, kernel_size=(7,), stride=(1,), padding=(15,), dilation=(5,))\n",
              "        )\n",
              "        (convs2): ModuleList(\n",
              "          (0-2): 3 x Conv1d(256, 256, kernel_size=(7,), stride=(1,), padding=(3,))\n",
              "        )\n",
              "      )\n",
              "      (2): HifiGanResidualBlock(\n",
              "        (convs1): ModuleList(\n",
              "          (0): Conv1d(256, 256, kernel_size=(11,), stride=(1,), padding=(5,))\n",
              "          (1): Conv1d(256, 256, kernel_size=(11,), stride=(1,), padding=(15,), dilation=(3,))\n",
              "          (2): Conv1d(256, 256, kernel_size=(11,), stride=(1,), padding=(25,), dilation=(5,))\n",
              "        )\n",
              "        (convs2): ModuleList(\n",
              "          (0-2): 3 x Conv1d(256, 256, kernel_size=(11,), stride=(1,), padding=(5,))\n",
              "        )\n",
              "      )\n",
              "      (3): HifiGanResidualBlock(\n",
              "        (convs1): ModuleList(\n",
              "          (0): Conv1d(128, 128, kernel_size=(3,), stride=(1,), padding=(1,))\n",
              "          (1): Conv1d(128, 128, kernel_size=(3,), stride=(1,), padding=(3,), dilation=(3,))\n",
              "          (2): Conv1d(128, 128, kernel_size=(3,), stride=(1,), padding=(5,), dilation=(5,))\n",
              "        )\n",
              "        (convs2): ModuleList(\n",
              "          (0-2): 3 x Conv1d(128, 128, kernel_size=(3,), stride=(1,), padding=(1,))\n",
              "        )\n",
              "      )\n",
              "      (4): HifiGanResidualBlock(\n",
              "        (convs1): ModuleList(\n",
              "          (0): Conv1d(128, 128, kernel_size=(7,), stride=(1,), padding=(3,))\n",
              "          (1): Conv1d(128, 128, kernel_size=(7,), stride=(1,), padding=(9,), dilation=(3,))\n",
              "          (2): Conv1d(128, 128, kernel_size=(7,), stride=(1,), padding=(15,), dilation=(5,))\n",
              "        )\n",
              "        (convs2): ModuleList(\n",
              "          (0-2): 3 x Conv1d(128, 128, kernel_size=(7,), stride=(1,), padding=(3,))\n",
              "        )\n",
              "      )\n",
              "      (5): HifiGanResidualBlock(\n",
              "        (convs1): ModuleList(\n",
              "          (0): Conv1d(128, 128, kernel_size=(11,), stride=(1,), padding=(5,))\n",
              "          (1): Conv1d(128, 128, kernel_size=(11,), stride=(1,), padding=(15,), dilation=(3,))\n",
              "          (2): Conv1d(128, 128, kernel_size=(11,), stride=(1,), padding=(25,), dilation=(5,))\n",
              "        )\n",
              "        (convs2): ModuleList(\n",
              "          (0-2): 3 x Conv1d(128, 128, kernel_size=(11,), stride=(1,), padding=(5,))\n",
              "        )\n",
              "      )\n",
              "      (6): HifiGanResidualBlock(\n",
              "        (convs1): ModuleList(\n",
              "          (0): Conv1d(64, 64, kernel_size=(3,), stride=(1,), padding=(1,))\n",
              "          (1): Conv1d(64, 64, kernel_size=(3,), stride=(1,), padding=(3,), dilation=(3,))\n",
              "          (2): Conv1d(64, 64, kernel_size=(3,), stride=(1,), padding=(5,), dilation=(5,))\n",
              "        )\n",
              "        (convs2): ModuleList(\n",
              "          (0-2): 3 x Conv1d(64, 64, kernel_size=(3,), stride=(1,), padding=(1,))\n",
              "        )\n",
              "      )\n",
              "      (7): HifiGanResidualBlock(\n",
              "        (convs1): ModuleList(\n",
              "          (0): Conv1d(64, 64, kernel_size=(7,), stride=(1,), padding=(3,))\n",
              "          (1): Conv1d(64, 64, kernel_size=(7,), stride=(1,), padding=(9,), dilation=(3,))\n",
              "          (2): Conv1d(64, 64, kernel_size=(7,), stride=(1,), padding=(15,), dilation=(5,))\n",
              "        )\n",
              "        (convs2): ModuleList(\n",
              "          (0-2): 3 x Conv1d(64, 64, kernel_size=(7,), stride=(1,), padding=(3,))\n",
              "        )\n",
              "      )\n",
              "      (8): HifiGanResidualBlock(\n",
              "        (convs1): ModuleList(\n",
              "          (0): Conv1d(64, 64, kernel_size=(11,), stride=(1,), padding=(5,))\n",
              "          (1): Conv1d(64, 64, kernel_size=(11,), stride=(1,), padding=(15,), dilation=(3,))\n",
              "          (2): Conv1d(64, 64, kernel_size=(11,), stride=(1,), padding=(25,), dilation=(5,))\n",
              "        )\n",
              "        (convs2): ModuleList(\n",
              "          (0-2): 3 x Conv1d(64, 64, kernel_size=(11,), stride=(1,), padding=(5,))\n",
              "        )\n",
              "      )\n",
              "      (9): HifiGanResidualBlock(\n",
              "        (convs1): ModuleList(\n",
              "          (0): Conv1d(32, 32, kernel_size=(3,), stride=(1,), padding=(1,))\n",
              "          (1): Conv1d(32, 32, kernel_size=(3,), stride=(1,), padding=(3,), dilation=(3,))\n",
              "          (2): Conv1d(32, 32, kernel_size=(3,), stride=(1,), padding=(5,), dilation=(5,))\n",
              "        )\n",
              "        (convs2): ModuleList(\n",
              "          (0-2): 3 x Conv1d(32, 32, kernel_size=(3,), stride=(1,), padding=(1,))\n",
              "        )\n",
              "      )\n",
              "      (10): HifiGanResidualBlock(\n",
              "        (convs1): ModuleList(\n",
              "          (0): Conv1d(32, 32, kernel_size=(7,), stride=(1,), padding=(3,))\n",
              "          (1): Conv1d(32, 32, kernel_size=(7,), stride=(1,), padding=(9,), dilation=(3,))\n",
              "          (2): Conv1d(32, 32, kernel_size=(7,), stride=(1,), padding=(15,), dilation=(5,))\n",
              "        )\n",
              "        (convs2): ModuleList(\n",
              "          (0-2): 3 x Conv1d(32, 32, kernel_size=(7,), stride=(1,), padding=(3,))\n",
              "        )\n",
              "      )\n",
              "      (11): HifiGanResidualBlock(\n",
              "        (convs1): ModuleList(\n",
              "          (0): Conv1d(32, 32, kernel_size=(11,), stride=(1,), padding=(5,))\n",
              "          (1): Conv1d(32, 32, kernel_size=(11,), stride=(1,), padding=(15,), dilation=(3,))\n",
              "          (2): Conv1d(32, 32, kernel_size=(11,), stride=(1,), padding=(25,), dilation=(5,))\n",
              "        )\n",
              "        (convs2): ModuleList(\n",
              "          (0-2): 3 x Conv1d(32, 32, kernel_size=(11,), stride=(1,), padding=(5,))\n",
              "        )\n",
              "      )\n",
              "    )\n",
              "    (conv_post): Conv1d(32, 1, kernel_size=(7,), stride=(1,), padding=(3,), bias=False)\n",
              "  )\n",
              "  (duration_predictor): VitsStochasticDurationPredictor(\n",
              "    (conv_pre): Conv1d(192, 192, kernel_size=(1,), stride=(1,))\n",
              "    (conv_proj): Conv1d(192, 192, kernel_size=(1,), stride=(1,))\n",
              "    (conv_dds): VitsDilatedDepthSeparableConv(\n",
              "      (dropout): Dropout(p=0.5, inplace=False)\n",
              "      (convs_dilated): ModuleList(\n",
              "        (0): Conv1d(192, 192, kernel_size=(3,), stride=(1,), padding=(1,), groups=192)\n",
              "        (1): Conv1d(192, 192, kernel_size=(3,), stride=(1,), padding=(3,), dilation=(3,), groups=192)\n",
              "        (2): Conv1d(192, 192, kernel_size=(3,), stride=(1,), padding=(9,), dilation=(9,), groups=192)\n",
              "      )\n",
              "      (convs_pointwise): ModuleList(\n",
              "        (0-2): 3 x Conv1d(192, 192, kernel_size=(1,), stride=(1,))\n",
              "      )\n",
              "      (norms_1): ModuleList(\n",
              "        (0-2): 3 x LayerNorm((192,), eps=1e-05, elementwise_affine=True)\n",
              "      )\n",
              "      (norms_2): ModuleList(\n",
              "        (0-2): 3 x LayerNorm((192,), eps=1e-05, elementwise_affine=True)\n",
              "      )\n",
              "    )\n",
              "    (flows): ModuleList(\n",
              "      (0): VitsElementwiseAffine()\n",
              "      (1-4): 4 x VitsConvFlow(\n",
              "        (conv_pre): Conv1d(1, 192, kernel_size=(1,), stride=(1,))\n",
              "        (conv_dds): VitsDilatedDepthSeparableConv(\n",
              "          (dropout): Dropout(p=0.0, inplace=False)\n",
              "          (convs_dilated): ModuleList(\n",
              "            (0): Conv1d(192, 192, kernel_size=(3,), stride=(1,), padding=(1,), groups=192)\n",
              "            (1): Conv1d(192, 192, kernel_size=(3,), stride=(1,), padding=(3,), dilation=(3,), groups=192)\n",
              "            (2): Conv1d(192, 192, kernel_size=(3,), stride=(1,), padding=(9,), dilation=(9,), groups=192)\n",
              "          )\n",
              "          (convs_pointwise): ModuleList(\n",
              "            (0-2): 3 x Conv1d(192, 192, kernel_size=(1,), stride=(1,))\n",
              "          )\n",
              "          (norms_1): ModuleList(\n",
              "            (0-2): 3 x LayerNorm((192,), eps=1e-05, elementwise_affine=True)\n",
              "          )\n",
              "          (norms_2): ModuleList(\n",
              "            (0-2): 3 x LayerNorm((192,), eps=1e-05, elementwise_affine=True)\n",
              "          )\n",
              "        )\n",
              "        (conv_proj): Conv1d(192, 29, kernel_size=(1,), stride=(1,))\n",
              "      )\n",
              "    )\n",
              "    (post_conv_pre): Conv1d(1, 192, kernel_size=(1,), stride=(1,))\n",
              "    (post_conv_proj): Conv1d(192, 192, kernel_size=(1,), stride=(1,))\n",
              "    (post_conv_dds): VitsDilatedDepthSeparableConv(\n",
              "      (dropout): Dropout(p=0.5, inplace=False)\n",
              "      (convs_dilated): ModuleList(\n",
              "        (0): Conv1d(192, 192, kernel_size=(3,), stride=(1,), padding=(1,), groups=192)\n",
              "        (1): Conv1d(192, 192, kernel_size=(3,), stride=(1,), padding=(3,), dilation=(3,), groups=192)\n",
              "        (2): Conv1d(192, 192, kernel_size=(3,), stride=(1,), padding=(9,), dilation=(9,), groups=192)\n",
              "      )\n",
              "      (convs_pointwise): ModuleList(\n",
              "        (0-2): 3 x Conv1d(192, 192, kernel_size=(1,), stride=(1,))\n",
              "      )\n",
              "      (norms_1): ModuleList(\n",
              "        (0-2): 3 x LayerNorm((192,), eps=1e-05, elementwise_affine=True)\n",
              "      )\n",
              "      (norms_2): ModuleList(\n",
              "        (0-2): 3 x LayerNorm((192,), eps=1e-05, elementwise_affine=True)\n",
              "      )\n",
              "    )\n",
              "    (post_flows): ModuleList(\n",
              "      (0): VitsElementwiseAffine()\n",
              "      (1-4): 4 x VitsConvFlow(\n",
              "        (conv_pre): Conv1d(1, 192, kernel_size=(1,), stride=(1,))\n",
              "        (conv_dds): VitsDilatedDepthSeparableConv(\n",
              "          (dropout): Dropout(p=0.0, inplace=False)\n",
              "          (convs_dilated): ModuleList(\n",
              "            (0): Conv1d(192, 192, kernel_size=(3,), stride=(1,), padding=(1,), groups=192)\n",
              "            (1): Conv1d(192, 192, kernel_size=(3,), stride=(1,), padding=(3,), dilation=(3,), groups=192)\n",
              "            (2): Conv1d(192, 192, kernel_size=(3,), stride=(1,), padding=(9,), dilation=(9,), groups=192)\n",
              "          )\n",
              "          (convs_pointwise): ModuleList(\n",
              "            (0-2): 3 x Conv1d(192, 192, kernel_size=(1,), stride=(1,))\n",
              "          )\n",
              "          (norms_1): ModuleList(\n",
              "            (0-2): 3 x LayerNorm((192,), eps=1e-05, elementwise_affine=True)\n",
              "          )\n",
              "          (norms_2): ModuleList(\n",
              "            (0-2): 3 x LayerNorm((192,), eps=1e-05, elementwise_affine=True)\n",
              "          )\n",
              "        )\n",
              "        (conv_proj): Conv1d(192, 29, kernel_size=(1,), stride=(1,))\n",
              "      )\n",
              "    )\n",
              "  )\n",
              "  (posterior_encoder): VitsPosteriorEncoder(\n",
              "    (conv_pre): Conv1d(513, 192, kernel_size=(1,), stride=(1,))\n",
              "    (wavenet): VitsWaveNet(\n",
              "      (in_layers): ModuleList(\n",
              "        (0-15): 16 x ParametrizedConv1d(\n",
              "          192, 384, kernel_size=(5,), stride=(1,), padding=(2,)\n",
              "          (parametrizations): ModuleDict(\n",
              "            (weight): ParametrizationList(\n",
              "              (0): _WeightNorm()\n",
              "            )\n",
              "          )\n",
              "        )\n",
              "      )\n",
              "      (res_skip_layers): ModuleList(\n",
              "        (0-14): 15 x ParametrizedConv1d(\n",
              "          192, 384, kernel_size=(1,), stride=(1,)\n",
              "          (parametrizations): ModuleDict(\n",
              "            (weight): ParametrizationList(\n",
              "              (0): _WeightNorm()\n",
              "            )\n",
              "          )\n",
              "        )\n",
              "        (15): ParametrizedConv1d(\n",
              "          192, 192, kernel_size=(1,), stride=(1,)\n",
              "          (parametrizations): ModuleDict(\n",
              "            (weight): ParametrizationList(\n",
              "              (0): _WeightNorm()\n",
              "            )\n",
              "          )\n",
              "        )\n",
              "      )\n",
              "      (dropout): Dropout(p=0.0, inplace=False)\n",
              "    )\n",
              "    (conv_proj): Conv1d(192, 384, kernel_size=(1,), stride=(1,))\n",
              "  )\n",
              ")"
            ]
          },
          "metadata": {},
          "execution_count": 4
        }
      ]
    }
  ]
}