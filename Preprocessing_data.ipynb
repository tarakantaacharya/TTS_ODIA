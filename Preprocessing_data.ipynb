{
  "cells": [
    {
      "cell_type": "markdown",
      "metadata": {
        "id": "view-in-github",
        "colab_type": "text"
      },
      "source": [
        "<a href=\"https://colab.research.google.com/github/tarakantaacharya/TTS_ODIA/blob/main/Preprocessing_data.ipynb\" target=\"_parent\"><img src=\"https://colab.research.google.com/assets/colab-badge.svg\" alt=\"Open In Colab\"/></a>"
      ]
    },
    {
      "cell_type": "code",
      "execution_count": null,
      "metadata": {
        "colab": {
          "base_uri": "https://localhost:8080/"
        },
        "id": "Er1AoufPKwwD",
        "outputId": "98559a4b-1afb-443b-a35f-d257da286240"
      },
      "outputs": [
        {
          "output_type": "stream",
          "name": "stdout",
          "text": [
            "Collecting datasets\n",
            "  Downloading datasets-3.3.2-py3-none-any.whl.metadata (19 kB)\n",
            "Requirement already satisfied: filelock in /usr/local/lib/python3.11/dist-packages (from datasets) (3.17.0)\n",
            "Requirement already satisfied: numpy>=1.17 in /usr/local/lib/python3.11/dist-packages (from datasets) (1.26.4)\n",
            "Requirement already satisfied: pyarrow>=15.0.0 in /usr/local/lib/python3.11/dist-packages (from datasets) (17.0.0)\n",
            "Collecting dill<0.3.9,>=0.3.0 (from datasets)\n",
            "  Downloading dill-0.3.8-py3-none-any.whl.metadata (10 kB)\n",
            "Requirement already satisfied: pandas in /usr/local/lib/python3.11/dist-packages (from datasets) (2.2.2)\n",
            "Requirement already satisfied: requests>=2.32.2 in /usr/local/lib/python3.11/dist-packages (from datasets) (2.32.3)\n",
            "Requirement already satisfied: tqdm>=4.66.3 in /usr/local/lib/python3.11/dist-packages (from datasets) (4.67.1)\n",
            "Collecting xxhash (from datasets)\n",
            "  Downloading xxhash-3.5.0-cp311-cp311-manylinux_2_17_x86_64.manylinux2014_x86_64.whl.metadata (12 kB)\n",
            "Collecting multiprocess<0.70.17 (from datasets)\n",
            "  Downloading multiprocess-0.70.16-py311-none-any.whl.metadata (7.2 kB)\n",
            "Requirement already satisfied: fsspec<=2024.12.0,>=2023.1.0 in /usr/local/lib/python3.11/dist-packages (from fsspec[http]<=2024.12.0,>=2023.1.0->datasets) (2024.10.0)\n",
            "Requirement already satisfied: aiohttp in /usr/local/lib/python3.11/dist-packages (from datasets) (3.11.12)\n",
            "Requirement already satisfied: huggingface-hub>=0.24.0 in /usr/local/lib/python3.11/dist-packages (from datasets) (0.28.1)\n",
            "Requirement already satisfied: packaging in /usr/local/lib/python3.11/dist-packages (from datasets) (24.2)\n",
            "Requirement already satisfied: pyyaml>=5.1 in /usr/local/lib/python3.11/dist-packages (from datasets) (6.0.2)\n",
            "Requirement already satisfied: aiohappyeyeballs>=2.3.0 in /usr/local/lib/python3.11/dist-packages (from aiohttp->datasets) (2.4.6)\n",
            "Requirement already satisfied: aiosignal>=1.1.2 in /usr/local/lib/python3.11/dist-packages (from aiohttp->datasets) (1.3.2)\n",
            "Requirement already satisfied: attrs>=17.3.0 in /usr/local/lib/python3.11/dist-packages (from aiohttp->datasets) (25.1.0)\n",
            "Requirement already satisfied: frozenlist>=1.1.1 in /usr/local/lib/python3.11/dist-packages (from aiohttp->datasets) (1.5.0)\n",
            "Requirement already satisfied: multidict<7.0,>=4.5 in /usr/local/lib/python3.11/dist-packages (from aiohttp->datasets) (6.1.0)\n",
            "Requirement already satisfied: propcache>=0.2.0 in /usr/local/lib/python3.11/dist-packages (from aiohttp->datasets) (0.2.1)\n",
            "Requirement already satisfied: yarl<2.0,>=1.17.0 in /usr/local/lib/python3.11/dist-packages (from aiohttp->datasets) (1.18.3)\n",
            "Requirement already satisfied: typing-extensions>=3.7.4.3 in /usr/local/lib/python3.11/dist-packages (from huggingface-hub>=0.24.0->datasets) (4.12.2)\n",
            "Requirement already satisfied: charset-normalizer<4,>=2 in /usr/local/lib/python3.11/dist-packages (from requests>=2.32.2->datasets) (3.4.1)\n",
            "Requirement already satisfied: idna<4,>=2.5 in /usr/local/lib/python3.11/dist-packages (from requests>=2.32.2->datasets) (3.10)\n",
            "Requirement already satisfied: urllib3<3,>=1.21.1 in /usr/local/lib/python3.11/dist-packages (from requests>=2.32.2->datasets) (2.3.0)\n",
            "Requirement already satisfied: certifi>=2017.4.17 in /usr/local/lib/python3.11/dist-packages (from requests>=2.32.2->datasets) (2025.1.31)\n",
            "Requirement already satisfied: python-dateutil>=2.8.2 in /usr/local/lib/python3.11/dist-packages (from pandas->datasets) (2.8.2)\n",
            "Requirement already satisfied: pytz>=2020.1 in /usr/local/lib/python3.11/dist-packages (from pandas->datasets) (2025.1)\n",
            "Requirement already satisfied: tzdata>=2022.7 in /usr/local/lib/python3.11/dist-packages (from pandas->datasets) (2025.1)\n",
            "Requirement already satisfied: six>=1.5 in /usr/local/lib/python3.11/dist-packages (from python-dateutil>=2.8.2->pandas->datasets) (1.17.0)\n",
            "Downloading datasets-3.3.2-py3-none-any.whl (485 kB)\n",
            "\u001b[2K   \u001b[90m━━━━━━━━━━━━━━━━━━━━━━━━━━━━━━━━━━━━━━━━\u001b[0m \u001b[32m485.4/485.4 kB\u001b[0m \u001b[31m8.7 MB/s\u001b[0m eta \u001b[36m0:00:00\u001b[0m\n",
            "\u001b[?25hDownloading dill-0.3.8-py3-none-any.whl (116 kB)\n",
            "\u001b[2K   \u001b[90m━━━━━━━━━━━━━━━━━━━━━━━━━━━━━━━━━━━━━━━━\u001b[0m \u001b[32m116.3/116.3 kB\u001b[0m \u001b[31m7.1 MB/s\u001b[0m eta \u001b[36m0:00:00\u001b[0m\n",
            "\u001b[?25hDownloading multiprocess-0.70.16-py311-none-any.whl (143 kB)\n",
            "\u001b[2K   \u001b[90m━━━━━━━━━━━━━━━━━━━━━━━━━━━━━━━━━━━━━━━━\u001b[0m \u001b[32m143.5/143.5 kB\u001b[0m \u001b[31m3.4 MB/s\u001b[0m eta \u001b[36m0:00:00\u001b[0m\n",
            "\u001b[?25hDownloading xxhash-3.5.0-cp311-cp311-manylinux_2_17_x86_64.manylinux2014_x86_64.whl (194 kB)\n",
            "\u001b[2K   \u001b[90m━━━━━━━━━━━━━━━━━━━━━━━━━━━━━━━━━━━━━━━━\u001b[0m \u001b[32m194.8/194.8 kB\u001b[0m \u001b[31m6.6 MB/s\u001b[0m eta \u001b[36m0:00:00\u001b[0m\n",
            "\u001b[?25hInstalling collected packages: xxhash, dill, multiprocess, datasets\n",
            "Successfully installed datasets-3.3.2 dill-0.3.8 multiprocess-0.70.16 xxhash-3.5.0\n",
            "Requirement already satisfied: librosa in /usr/local/lib/python3.11/dist-packages (0.10.2.post1)\n",
            "Requirement already satisfied: audioread>=2.1.9 in /usr/local/lib/python3.11/dist-packages (from librosa) (3.0.1)\n",
            "Requirement already satisfied: numpy!=1.22.0,!=1.22.1,!=1.22.2,>=1.20.3 in /usr/local/lib/python3.11/dist-packages (from librosa) (1.26.4)\n",
            "Requirement already satisfied: scipy>=1.2.0 in /usr/local/lib/python3.11/dist-packages (from librosa) (1.13.1)\n",
            "Requirement already satisfied: scikit-learn>=0.20.0 in /usr/local/lib/python3.11/dist-packages (from librosa) (1.6.1)\n",
            "Requirement already satisfied: joblib>=0.14 in /usr/local/lib/python3.11/dist-packages (from librosa) (1.4.2)\n",
            "Requirement already satisfied: decorator>=4.3.0 in /usr/local/lib/python3.11/dist-packages (from librosa) (4.4.2)\n",
            "Requirement already satisfied: numba>=0.51.0 in /usr/local/lib/python3.11/dist-packages (from librosa) (0.61.0)\n",
            "Requirement already satisfied: soundfile>=0.12.1 in /usr/local/lib/python3.11/dist-packages (from librosa) (0.13.1)\n",
            "Requirement already satisfied: pooch>=1.1 in /usr/local/lib/python3.11/dist-packages (from librosa) (1.8.2)\n",
            "Requirement already satisfied: soxr>=0.3.2 in /usr/local/lib/python3.11/dist-packages (from librosa) (0.5.0.post1)\n",
            "Requirement already satisfied: typing-extensions>=4.1.1 in /usr/local/lib/python3.11/dist-packages (from librosa) (4.12.2)\n",
            "Requirement already satisfied: lazy-loader>=0.1 in /usr/local/lib/python3.11/dist-packages (from librosa) (0.4)\n",
            "Requirement already satisfied: msgpack>=1.0 in /usr/local/lib/python3.11/dist-packages (from librosa) (1.1.0)\n",
            "Requirement already satisfied: packaging in /usr/local/lib/python3.11/dist-packages (from lazy-loader>=0.1->librosa) (24.2)\n",
            "Requirement already satisfied: llvmlite<0.45,>=0.44.0dev0 in /usr/local/lib/python3.11/dist-packages (from numba>=0.51.0->librosa) (0.44.0)\n",
            "Requirement already satisfied: platformdirs>=2.5.0 in /usr/local/lib/python3.11/dist-packages (from pooch>=1.1->librosa) (4.3.6)\n",
            "Requirement already satisfied: requests>=2.19.0 in /usr/local/lib/python3.11/dist-packages (from pooch>=1.1->librosa) (2.32.3)\n",
            "Requirement already satisfied: threadpoolctl>=3.1.0 in /usr/local/lib/python3.11/dist-packages (from scikit-learn>=0.20.0->librosa) (3.5.0)\n",
            "Requirement already satisfied: cffi>=1.0 in /usr/local/lib/python3.11/dist-packages (from soundfile>=0.12.1->librosa) (1.17.1)\n",
            "Requirement already satisfied: pycparser in /usr/local/lib/python3.11/dist-packages (from cffi>=1.0->soundfile>=0.12.1->librosa) (2.22)\n",
            "Requirement already satisfied: charset-normalizer<4,>=2 in /usr/local/lib/python3.11/dist-packages (from requests>=2.19.0->pooch>=1.1->librosa) (3.4.1)\n",
            "Requirement already satisfied: idna<4,>=2.5 in /usr/local/lib/python3.11/dist-packages (from requests>=2.19.0->pooch>=1.1->librosa) (3.10)\n",
            "Requirement already satisfied: urllib3<3,>=1.21.1 in /usr/local/lib/python3.11/dist-packages (from requests>=2.19.0->pooch>=1.1->librosa) (2.3.0)\n",
            "Requirement already satisfied: certifi>=2017.4.17 in /usr/local/lib/python3.11/dist-packages (from requests>=2.19.0->pooch>=1.1->librosa) (2025.1.31)\n"
          ]
        }
      ],
      "source": [
        "! pip install datasets\n",
        "! pip install librosa"
      ]
    },
    {
      "cell_type": "code",
      "execution_count": null,
      "metadata": {
        "colab": {
          "base_uri": "https://localhost:8080/"
        },
        "id": "ZvTLjGWvKxWO",
        "outputId": "af9c486f-8964-42a1-e1cd-5d917bd3a1b7"
      },
      "outputs": [
        {
          "output_type": "stream",
          "name": "stdout",
          "text": [
            "Processed 50 rows out of 4213\n",
            "Processed 100 rows out of 4213\n",
            "✅ Data has been saved to processed_data.json.\n"
          ]
        }
      ],
      "source": [
        "import json\n",
        "import numpy as np\n",
        "import torch\n",
        "import librosa\n",
        "from datasets import load_dataset\n",
        "from transformers import AutoTokenizer, AutoProcessor, AutoModel\n",
        "\n",
        "# Load DAC processor and model\n",
        "processor = AutoProcessor.from_pretrained(\"ylacombe/dac_44khz\")\n",
        "dac_model = AutoModel.from_pretrained(\"ylacombe/dac_44khz\")\n",
        "\n",
        "# Load text tokenizer\n",
        "tokenizer = AutoTokenizer.from_pretrained(\"ai4bharat/IndicBART\")\n",
        "\n",
        "def ensure_mono(audio_waveform):\n",
        "    \"\"\"Convert stereo audio to mono.\"\"\"\n",
        "    if len(audio_waveform.shape) > 1:  # Check if stereo\n",
        "        audio_waveform = np.mean(audio_waveform, axis=0)  # Convert to mono\n",
        "    return audio_waveform\n",
        "\n",
        "def preprocess_audio(audio_data, sampling_rate, target_sr=44100):\n",
        "    \"\"\"Resample and normalize audio.\"\"\"\n",
        "    # Ensure mono audio\n",
        "    audio_data = ensure_mono(audio_data)\n",
        "\n",
        "    if sampling_rate != target_sr:\n",
        "        audio_data = librosa.resample(audio_data, orig_sr=sampling_rate, target_sr=target_sr)\n",
        "\n",
        "    return audio_data, target_sr\n",
        "\n",
        "def encode_audio_to_dac(audio_waveform, sampling_rate):\n",
        "    \"\"\"Convert raw audio waveform into DAC tokens.\"\"\"\n",
        "    # Ensure audio is mono\n",
        "    audio_waveform = ensure_mono(audio_waveform)\n",
        "\n",
        "    # Resample to 44100 Hz if needed\n",
        "    if sampling_rate != 44100:\n",
        "        audio_waveform = librosa.resample(audio_waveform, orig_sr=sampling_rate, target_sr=44100)\n",
        "\n",
        "    # Convert to PyTorch tensor\n",
        "    audio_tensor = torch.tensor(audio_waveform, dtype=torch.float32)\n",
        "\n",
        "    # Process with DAC using the processor, passing correct sampling rate\n",
        "    with torch.no_grad():\n",
        "        inputs = processor(audio_tensor, sampling_rate=44100, return_tensors=\"pt\")  # Fixed!\n",
        "        dac_tokens = dac_model(**inputs).audio_codes  # Extract DAC tokens\n",
        "\n",
        "    return dac_tokens.squeeze(0).tolist()\n",
        "\n",
        "def preprocess_text(text, tokenizer):\n",
        "    \"\"\"Tokenize text.\"\"\"\n",
        "    tokens = tokenizer(text, return_tensors=\"pt\")\n",
        "    return tokens['input_ids'].squeeze(0).tolist()\n",
        "\n",
        "def preprocess_data_from_dataset(example, tokenizer):\n",
        "    \"\"\"Preprocess a single example of audio & text.\"\"\"\n",
        "    audio_data = example[\"audio\"][\"array\"]\n",
        "    sampling_rate = example[\"audio\"][\"sampling_rate\"]\n",
        "\n",
        "    # Filter only audios of duration 3-5 seconds\n",
        "    duration_sec = len(audio_data) / sampling_rate\n",
        "    if not (3.0 <= duration_sec <= 5.0):\n",
        "        return None  # Skip samples outside this range\n",
        "\n",
        "    # Preprocess audio & convert to DAC tokens\n",
        "    norm_audio_data, processed_sr = preprocess_audio(audio_data, sampling_rate)\n",
        "    dac_audio = encode_audio_to_dac(norm_audio_data, processed_sr)\n",
        "\n",
        "    # Tokenize text\n",
        "    text = example[\"text\"]\n",
        "    tokenized_text = preprocess_text(text, tokenizer)\n",
        "\n",
        "    return {\"audio\": dac_audio, \"text\": tokenized_text}\n",
        "\n",
        "# Load dataset & filter only 3-5 sec audios\n",
        "dataset = load_dataset(\"SPRINGLab/IndicTTS_Odia\", split=\"train\")\n",
        "filtered_dataset = dataset.filter(lambda x: 3.0 <= len(x[\"audio\"][\"array\"]) / x[\"audio\"][\"sampling_rate\"] <= 5.0)\n",
        "\n",
        "processed_data = []\n",
        "\n",
        "# Process dataset in batches\n",
        "batch_size = 50\n",
        "for i in range(0, len(filtered_dataset)//42, batch_size):\n",
        "    batch = filtered_dataset.select(range(i, min(i + batch_size, len(filtered_dataset))))\n",
        "\n",
        "    for example in batch:\n",
        "        processed_item = preprocess_data_from_dataset(example, tokenizer)\n",
        "        if processed_item:\n",
        "            processed_data.append(processed_item)\n",
        "\n",
        "    print(f\"Processed {min(i + batch_size, len(filtered_dataset))} rows out of {len(filtered_dataset)}\")\n",
        "\n",
        "# Save processed data as JSON\n",
        "with open(\"processed_data.json\", \"w\") as json_file:\n",
        "    json.dump(processed_data, json_file)\n",
        "\n",
        "print(\"✅ Data has been saved to processed_data.json.\")"
      ]
    },
    {
      "cell_type": "code",
      "execution_count": 2,
      "metadata": {
        "colab": {
          "base_uri": "https://localhost:8080/"
        },
        "id": "jaT-3r-zTTXf",
        "outputId": "fdac4a13-6598-4e6d-9f95-60c9e2b6b5ab"
      },
      "outputs": [
        {
          "output_type": "execute_result",
          "data": {
            "text/plain": [
              "100"
            ]
          },
          "metadata": {},
          "execution_count": 2
        }
      ],
      "source": [
        "import pandas as pd\n",
        "df = pd.read_json('processed_data.json')\n",
        "len(df)"
      ]
    },
    {
      "cell_type": "code",
      "source": [
        "import numpy as np\n",
        "\n",
        "def pad_audio(audio, target_length):\n",
        "    \"\"\"Pad or truncate audio to the target shape.\"\"\"\n",
        "    if audio.shape[1] < target_length:\n",
        "        pad_width = target_length - audio.shape[1]\n",
        "        padding = np.zeros((audio.shape[0], pad_width))\n",
        "        return np.concatenate([audio, padding], axis=1)  # Pad\n",
        "    return audio[:, :target_length]  # Truncate if needed\n",
        "\n",
        "# Find the max width across all samples\n",
        "max_length = max(df['audio'].apply(lambda x: np.array(x).shape[1]))  # Extract width\n",
        "\n",
        "# Apply padding function\n",
        "df['padded_audio'] = df['audio'].apply(lambda x: pad_audio(np.array(x), max_length))\n",
        "\n",
        "# Check the count of different padded shapes\n",
        "df['padded_audio_shape'] = df['padded_audio'].apply(lambda x: x.shape)\n",
        "print(df['padded_audio_shape'].value_counts())"
      ],
      "metadata": {
        "colab": {
          "base_uri": "https://localhost:8080/"
        },
        "id": "iaJDKyWGR4YV",
        "outputId": "1973a8fe-0366-4fac-8b71-03c131e9a426"
      },
      "execution_count": 4,
      "outputs": [
        {
          "output_type": "stream",
          "name": "stdout",
          "text": [
            "padded_audio_shape\n",
            "(9, 431)    100\n",
            "Name: count, dtype: int64\n"
          ]
        }
      ]
    },
    {
      "cell_type": "code",
      "source": [
        "print(type(df['audio']))"
      ],
      "metadata": {
        "colab": {
          "base_uri": "https://localhost:8080/"
        },
        "id": "GkhJI7GocM-p",
        "outputId": "d09cb11b-cc09-4889-c021-94a15b7d0265"
      },
      "execution_count": 5,
      "outputs": [
        {
          "output_type": "stream",
          "name": "stdout",
          "text": [
            "<class 'pandas.core.series.Series'>\n"
          ]
        }
      ]
    },
    {
      "cell_type": "code",
      "source": [
        "print(type(df['text']))"
      ],
      "metadata": {
        "colab": {
          "base_uri": "https://localhost:8080/"
        },
        "id": "e0bm2ERKcUM7",
        "outputId": "cbeed18e-bdf8-48f1-a3d1-6739c84d5497"
      },
      "execution_count": 6,
      "outputs": [
        {
          "output_type": "stream",
          "name": "stdout",
          "text": [
            "<class 'pandas.core.series.Series'>\n"
          ]
        }
      ]
    },
    {
      "cell_type": "code",
      "source": [
        "import numpy as np\n",
        "\n",
        "# Function to pad audio to the maximum length\n",
        "def pad_text(text, target_length):\n",
        "    # If the audio is shorter than the target length, pad it with zeros\n",
        "    if len(text) < target_length:\n",
        "        padding = np.zeros(target_length - len(text))\n",
        "        return np.concatenate([text, padding])\n",
        "    else:\n",
        "        # If the audio is longer, truncate it\n",
        "        return text[:target_length]\n",
        "\n",
        "# Find the maximum audio length\n",
        "max_length = max([len(audio) for audio in df['text']])\n",
        "\n",
        "# Pad the audio to the maximum length\n",
        "df['padded_text'] = df['text'].apply(lambda x: pad_text(x, max_length))\n",
        "\n",
        "# Check the shape of padded audio\n",
        "print(df['padded_text'].apply(lambda x: len(x)).value_counts())"
      ],
      "metadata": {
        "id": "t1Qdh0s_EkQh",
        "colab": {
          "base_uri": "https://localhost:8080/"
        },
        "outputId": "ba479dfd-a44c-40c6-bc37-e3dd8ede86b7"
      },
      "execution_count": 7,
      "outputs": [
        {
          "output_type": "stream",
          "name": "stdout",
          "text": [
            "padded_text\n",
            "48    100\n",
            "Name: count, dtype: int64\n"
          ]
        }
      ]
    },
    {
      "cell_type": "code",
      "source": [
        "import numpy as np\n",
        "import pandas as pd\n",
        "from collections import Counter\n",
        "\n",
        "# Function to get the shape of each audio file\n",
        "def get_audio_shape(audio):\n",
        "    return str(np.array(audio).shape)  # Convert shape to string for counting\n",
        "\n",
        "# Apply the function to get shapes\n",
        "df['audio_shape'] = df['padded_audio'].apply(get_audio_shape)\n",
        "\n",
        "# Count occurrences of each shape\n",
        "shape_counts = df['audio_shape'].value_counts()\n",
        "\n",
        "# Display the results\n",
        "print(\"Audio shape counts:\")\n",
        "print(shape_counts)"
      ],
      "metadata": {
        "colab": {
          "base_uri": "https://localhost:8080/"
        },
        "outputId": "31a4802c-2da2-4852-cab5-d2220b4486d0",
        "id": "k3JQpVL36PcV"
      },
      "execution_count": 8,
      "outputs": [
        {
          "output_type": "stream",
          "name": "stdout",
          "text": [
            "Audio shape counts:\n",
            "audio_shape\n",
            "(9, 431)    100\n",
            "Name: count, dtype: int64\n"
          ]
        }
      ]
    },
    {
      "cell_type": "code",
      "source": [
        "# Function to check the shape of audio arrays\n",
        "def check_text_shape(df):\n",
        "    # Create a dictionary to store the counts of each shape\n",
        "    shape_counts = {}\n",
        "\n",
        "    for text in df['padded_text']:\n",
        "        # Get the shape of the audio (assuming each audio is a numpy array or list)\n",
        "        shape = len(text)\n",
        "\n",
        "        # Update the count for the shape\n",
        "        if shape in shape_counts:\n",
        "            shape_counts[shape] += 1\n",
        "        else:\n",
        "            shape_counts[shape] = 1\n",
        "\n",
        "    return shape_counts\n",
        "\n",
        "# Get the shape counts\n",
        "shape_counts = check_text_shape(df)\n",
        "\n",
        "# Print the result\n",
        "for shape, count in shape_counts.items():\n",
        "    print(f\"Text with shape {shape}: {count} files\")"
      ],
      "metadata": {
        "colab": {
          "base_uri": "https://localhost:8080/"
        },
        "outputId": "ae7da649-f07d-42d7-a388-6291cb4b47ed",
        "id": "h7jT-RVi6PcV"
      },
      "execution_count": 9,
      "outputs": [
        {
          "output_type": "stream",
          "name": "stdout",
          "text": [
            "Text with shape 48: 100 files\n"
          ]
        }
      ]
    },
    {
      "cell_type": "code",
      "source": [
        "df.columns"
      ],
      "metadata": {
        "colab": {
          "base_uri": "https://localhost:8080/"
        },
        "id": "NQzn_2gHTMr9",
        "outputId": "32e2927d-abd1-4e68-c184-a09ad5b600ac"
      },
      "execution_count": 10,
      "outputs": [
        {
          "output_type": "execute_result",
          "data": {
            "text/plain": [
              "Index(['audio', 'text', 'padded_audio', 'padded_audio_shape', 'padded_text',\n",
              "       'audio_shape'],\n",
              "      dtype='object')"
            ]
          },
          "metadata": {},
          "execution_count": 10
        }
      ]
    },
    {
      "cell_type": "code",
      "source": [
        "print(df.head())"
      ],
      "metadata": {
        "colab": {
          "base_uri": "https://localhost:8080/"
        },
        "id": "xwMg1eFUTCkl",
        "outputId": "51b48399-339c-475d-871d-86ea31ce1809"
      },
      "execution_count": 11,
      "outputs": [
        {
          "output_type": "stream",
          "name": "stdout",
          "text": [
            "                                               audio  \\\n",
            "0  [[568, 568, 568, 568, 568, 568, 568, 568, 568,...   \n",
            "1  [[568, 568, 568, 568, 568, 568, 568, 568, 568,...   \n",
            "2  [[568, 568, 568, 568, 568, 568, 568, 568, 568,...   \n",
            "3  [[568, 568, 568, 568, 568, 568, 568, 568, 568,...   \n",
            "4  [[568, 568, 568, 568, 568, 568, 568, 568, 568,...   \n",
            "\n",
            "                                                text  \\\n",
            "0  [2, 41, 1, 62670, 1, 62670, 41, 1, 62827, 6200...   \n",
            "1  [2, 41, 1, 62670, 62006, 62007, 1, 41, 1, 6200...   \n",
            "2  [2, 41, 1, 41, 61937, 1, 62008, 62688, 62006, ...   \n",
            "3  [2, 41, 1, 41, 1, 62007, 41, 1, 62670, 62006, ...   \n",
            "4  [2, 41, 1, 62007, 61937, 41, 1, 62670, 1, 41, ...   \n",
            "\n",
            "                                        padded_audio padded_audio_shape  \\\n",
            "0  [[568.0, 568.0, 568.0, 568.0, 568.0, 568.0, 56...           (9, 431)   \n",
            "1  [[568.0, 568.0, 568.0, 568.0, 568.0, 568.0, 56...           (9, 431)   \n",
            "2  [[568.0, 568.0, 568.0, 568.0, 568.0, 568.0, 56...           (9, 431)   \n",
            "3  [[568.0, 568.0, 568.0, 568.0, 568.0, 568.0, 56...           (9, 431)   \n",
            "4  [[568.0, 568.0, 568.0, 568.0, 568.0, 568.0, 56...           (9, 431)   \n",
            "\n",
            "                                         padded_text audio_shape  \n",
            "0  [2.0, 41.0, 1.0, 62670.0, 1.0, 62670.0, 41.0, ...    (9, 431)  \n",
            "1  [2.0, 41.0, 1.0, 62670.0, 62006.0, 62007.0, 1....    (9, 431)  \n",
            "2  [2.0, 41.0, 1.0, 41.0, 61937.0, 1.0, 62008.0, ...    (9, 431)  \n",
            "3  [2.0, 41.0, 1.0, 41.0, 1.0, 62007.0, 41.0, 1.0...    (9, 431)  \n",
            "4  [2.0, 41.0, 1.0, 62007.0, 61937.0, 41.0, 1.0, ...    (9, 431)  \n"
          ]
        }
      ]
    },
    {
      "cell_type": "code",
      "source": [
        "df = df.drop(columns=['text','audio','audio_shape','padded_audio_shape'])"
      ],
      "metadata": {
        "id": "vcN9KqlcTVO0"
      },
      "execution_count": 12,
      "outputs": []
    },
    {
      "cell_type": "code",
      "source": [
        "df.head()"
      ],
      "metadata": {
        "colab": {
          "base_uri": "https://localhost:8080/",
          "height": 206
        },
        "id": "0Mfd6ssrTowr",
        "outputId": "a63b30e5-0c31-4f4c-c4ea-cdbfd8f3214d"
      },
      "execution_count": 13,
      "outputs": [
        {
          "output_type": "execute_result",
          "data": {
            "text/plain": [
              "                                        padded_audio  \\\n",
              "0  [[568.0, 568.0, 568.0, 568.0, 568.0, 568.0, 56...   \n",
              "1  [[568.0, 568.0, 568.0, 568.0, 568.0, 568.0, 56...   \n",
              "2  [[568.0, 568.0, 568.0, 568.0, 568.0, 568.0, 56...   \n",
              "3  [[568.0, 568.0, 568.0, 568.0, 568.0, 568.0, 56...   \n",
              "4  [[568.0, 568.0, 568.0, 568.0, 568.0, 568.0, 56...   \n",
              "\n",
              "                                         padded_text  \n",
              "0  [2.0, 41.0, 1.0, 62670.0, 1.0, 62670.0, 41.0, ...  \n",
              "1  [2.0, 41.0, 1.0, 62670.0, 62006.0, 62007.0, 1....  \n",
              "2  [2.0, 41.0, 1.0, 41.0, 61937.0, 1.0, 62008.0, ...  \n",
              "3  [2.0, 41.0, 1.0, 41.0, 1.0, 62007.0, 41.0, 1.0...  \n",
              "4  [2.0, 41.0, 1.0, 62007.0, 61937.0, 41.0, 1.0, ...  "
            ],
            "text/html": [
              "\n",
              "  <div id=\"df-5b79db2c-96b1-4748-a226-7b2b7fbfab1b\" class=\"colab-df-container\">\n",
              "    <div>\n",
              "<style scoped>\n",
              "    .dataframe tbody tr th:only-of-type {\n",
              "        vertical-align: middle;\n",
              "    }\n",
              "\n",
              "    .dataframe tbody tr th {\n",
              "        vertical-align: top;\n",
              "    }\n",
              "\n",
              "    .dataframe thead th {\n",
              "        text-align: right;\n",
              "    }\n",
              "</style>\n",
              "<table border=\"1\" class=\"dataframe\">\n",
              "  <thead>\n",
              "    <tr style=\"text-align: right;\">\n",
              "      <th></th>\n",
              "      <th>padded_audio</th>\n",
              "      <th>padded_text</th>\n",
              "    </tr>\n",
              "  </thead>\n",
              "  <tbody>\n",
              "    <tr>\n",
              "      <th>0</th>\n",
              "      <td>[[568.0, 568.0, 568.0, 568.0, 568.0, 568.0, 56...</td>\n",
              "      <td>[2.0, 41.0, 1.0, 62670.0, 1.0, 62670.0, 41.0, ...</td>\n",
              "    </tr>\n",
              "    <tr>\n",
              "      <th>1</th>\n",
              "      <td>[[568.0, 568.0, 568.0, 568.0, 568.0, 568.0, 56...</td>\n",
              "      <td>[2.0, 41.0, 1.0, 62670.0, 62006.0, 62007.0, 1....</td>\n",
              "    </tr>\n",
              "    <tr>\n",
              "      <th>2</th>\n",
              "      <td>[[568.0, 568.0, 568.0, 568.0, 568.0, 568.0, 56...</td>\n",
              "      <td>[2.0, 41.0, 1.0, 41.0, 61937.0, 1.0, 62008.0, ...</td>\n",
              "    </tr>\n",
              "    <tr>\n",
              "      <th>3</th>\n",
              "      <td>[[568.0, 568.0, 568.0, 568.0, 568.0, 568.0, 56...</td>\n",
              "      <td>[2.0, 41.0, 1.0, 41.0, 1.0, 62007.0, 41.0, 1.0...</td>\n",
              "    </tr>\n",
              "    <tr>\n",
              "      <th>4</th>\n",
              "      <td>[[568.0, 568.0, 568.0, 568.0, 568.0, 568.0, 56...</td>\n",
              "      <td>[2.0, 41.0, 1.0, 62007.0, 61937.0, 41.0, 1.0, ...</td>\n",
              "    </tr>\n",
              "  </tbody>\n",
              "</table>\n",
              "</div>\n",
              "    <div class=\"colab-df-buttons\">\n",
              "\n",
              "  <div class=\"colab-df-container\">\n",
              "    <button class=\"colab-df-convert\" onclick=\"convertToInteractive('df-5b79db2c-96b1-4748-a226-7b2b7fbfab1b')\"\n",
              "            title=\"Convert this dataframe to an interactive table.\"\n",
              "            style=\"display:none;\">\n",
              "\n",
              "  <svg xmlns=\"http://www.w3.org/2000/svg\" height=\"24px\" viewBox=\"0 -960 960 960\">\n",
              "    <path d=\"M120-120v-720h720v720H120Zm60-500h600v-160H180v160Zm220 220h160v-160H400v160Zm0 220h160v-160H400v160ZM180-400h160v-160H180v160Zm440 0h160v-160H620v160ZM180-180h160v-160H180v160Zm440 0h160v-160H620v160Z\"/>\n",
              "  </svg>\n",
              "    </button>\n",
              "\n",
              "  <style>\n",
              "    .colab-df-container {\n",
              "      display:flex;\n",
              "      gap: 12px;\n",
              "    }\n",
              "\n",
              "    .colab-df-convert {\n",
              "      background-color: #E8F0FE;\n",
              "      border: none;\n",
              "      border-radius: 50%;\n",
              "      cursor: pointer;\n",
              "      display: none;\n",
              "      fill: #1967D2;\n",
              "      height: 32px;\n",
              "      padding: 0 0 0 0;\n",
              "      width: 32px;\n",
              "    }\n",
              "\n",
              "    .colab-df-convert:hover {\n",
              "      background-color: #E2EBFA;\n",
              "      box-shadow: 0px 1px 2px rgba(60, 64, 67, 0.3), 0px 1px 3px 1px rgba(60, 64, 67, 0.15);\n",
              "      fill: #174EA6;\n",
              "    }\n",
              "\n",
              "    .colab-df-buttons div {\n",
              "      margin-bottom: 4px;\n",
              "    }\n",
              "\n",
              "    [theme=dark] .colab-df-convert {\n",
              "      background-color: #3B4455;\n",
              "      fill: #D2E3FC;\n",
              "    }\n",
              "\n",
              "    [theme=dark] .colab-df-convert:hover {\n",
              "      background-color: #434B5C;\n",
              "      box-shadow: 0px 1px 3px 1px rgba(0, 0, 0, 0.15);\n",
              "      filter: drop-shadow(0px 1px 2px rgba(0, 0, 0, 0.3));\n",
              "      fill: #FFFFFF;\n",
              "    }\n",
              "  </style>\n",
              "\n",
              "    <script>\n",
              "      const buttonEl =\n",
              "        document.querySelector('#df-5b79db2c-96b1-4748-a226-7b2b7fbfab1b button.colab-df-convert');\n",
              "      buttonEl.style.display =\n",
              "        google.colab.kernel.accessAllowed ? 'block' : 'none';\n",
              "\n",
              "      async function convertToInteractive(key) {\n",
              "        const element = document.querySelector('#df-5b79db2c-96b1-4748-a226-7b2b7fbfab1b');\n",
              "        const dataTable =\n",
              "          await google.colab.kernel.invokeFunction('convertToInteractive',\n",
              "                                                    [key], {});\n",
              "        if (!dataTable) return;\n",
              "\n",
              "        const docLinkHtml = 'Like what you see? Visit the ' +\n",
              "          '<a target=\"_blank\" href=https://colab.research.google.com/notebooks/data_table.ipynb>data table notebook</a>'\n",
              "          + ' to learn more about interactive tables.';\n",
              "        element.innerHTML = '';\n",
              "        dataTable['output_type'] = 'display_data';\n",
              "        await google.colab.output.renderOutput(dataTable, element);\n",
              "        const docLink = document.createElement('div');\n",
              "        docLink.innerHTML = docLinkHtml;\n",
              "        element.appendChild(docLink);\n",
              "      }\n",
              "    </script>\n",
              "  </div>\n",
              "\n",
              "\n",
              "<div id=\"df-1e9a3b9b-4b24-4629-859e-8b0f0624093c\">\n",
              "  <button class=\"colab-df-quickchart\" onclick=\"quickchart('df-1e9a3b9b-4b24-4629-859e-8b0f0624093c')\"\n",
              "            title=\"Suggest charts\"\n",
              "            style=\"display:none;\">\n",
              "\n",
              "<svg xmlns=\"http://www.w3.org/2000/svg\" height=\"24px\"viewBox=\"0 0 24 24\"\n",
              "     width=\"24px\">\n",
              "    <g>\n",
              "        <path d=\"M19 3H5c-1.1 0-2 .9-2 2v14c0 1.1.9 2 2 2h14c1.1 0 2-.9 2-2V5c0-1.1-.9-2-2-2zM9 17H7v-7h2v7zm4 0h-2V7h2v10zm4 0h-2v-4h2v4z\"/>\n",
              "    </g>\n",
              "</svg>\n",
              "  </button>\n",
              "\n",
              "<style>\n",
              "  .colab-df-quickchart {\n",
              "      --bg-color: #E8F0FE;\n",
              "      --fill-color: #1967D2;\n",
              "      --hover-bg-color: #E2EBFA;\n",
              "      --hover-fill-color: #174EA6;\n",
              "      --disabled-fill-color: #AAA;\n",
              "      --disabled-bg-color: #DDD;\n",
              "  }\n",
              "\n",
              "  [theme=dark] .colab-df-quickchart {\n",
              "      --bg-color: #3B4455;\n",
              "      --fill-color: #D2E3FC;\n",
              "      --hover-bg-color: #434B5C;\n",
              "      --hover-fill-color: #FFFFFF;\n",
              "      --disabled-bg-color: #3B4455;\n",
              "      --disabled-fill-color: #666;\n",
              "  }\n",
              "\n",
              "  .colab-df-quickchart {\n",
              "    background-color: var(--bg-color);\n",
              "    border: none;\n",
              "    border-radius: 50%;\n",
              "    cursor: pointer;\n",
              "    display: none;\n",
              "    fill: var(--fill-color);\n",
              "    height: 32px;\n",
              "    padding: 0;\n",
              "    width: 32px;\n",
              "  }\n",
              "\n",
              "  .colab-df-quickchart:hover {\n",
              "    background-color: var(--hover-bg-color);\n",
              "    box-shadow: 0 1px 2px rgba(60, 64, 67, 0.3), 0 1px 3px 1px rgba(60, 64, 67, 0.15);\n",
              "    fill: var(--button-hover-fill-color);\n",
              "  }\n",
              "\n",
              "  .colab-df-quickchart-complete:disabled,\n",
              "  .colab-df-quickchart-complete:disabled:hover {\n",
              "    background-color: var(--disabled-bg-color);\n",
              "    fill: var(--disabled-fill-color);\n",
              "    box-shadow: none;\n",
              "  }\n",
              "\n",
              "  .colab-df-spinner {\n",
              "    border: 2px solid var(--fill-color);\n",
              "    border-color: transparent;\n",
              "    border-bottom-color: var(--fill-color);\n",
              "    animation:\n",
              "      spin 1s steps(1) infinite;\n",
              "  }\n",
              "\n",
              "  @keyframes spin {\n",
              "    0% {\n",
              "      border-color: transparent;\n",
              "      border-bottom-color: var(--fill-color);\n",
              "      border-left-color: var(--fill-color);\n",
              "    }\n",
              "    20% {\n",
              "      border-color: transparent;\n",
              "      border-left-color: var(--fill-color);\n",
              "      border-top-color: var(--fill-color);\n",
              "    }\n",
              "    30% {\n",
              "      border-color: transparent;\n",
              "      border-left-color: var(--fill-color);\n",
              "      border-top-color: var(--fill-color);\n",
              "      border-right-color: var(--fill-color);\n",
              "    }\n",
              "    40% {\n",
              "      border-color: transparent;\n",
              "      border-right-color: var(--fill-color);\n",
              "      border-top-color: var(--fill-color);\n",
              "    }\n",
              "    60% {\n",
              "      border-color: transparent;\n",
              "      border-right-color: var(--fill-color);\n",
              "    }\n",
              "    80% {\n",
              "      border-color: transparent;\n",
              "      border-right-color: var(--fill-color);\n",
              "      border-bottom-color: var(--fill-color);\n",
              "    }\n",
              "    90% {\n",
              "      border-color: transparent;\n",
              "      border-bottom-color: var(--fill-color);\n",
              "    }\n",
              "  }\n",
              "</style>\n",
              "\n",
              "  <script>\n",
              "    async function quickchart(key) {\n",
              "      const quickchartButtonEl =\n",
              "        document.querySelector('#' + key + ' button');\n",
              "      quickchartButtonEl.disabled = true;  // To prevent multiple clicks.\n",
              "      quickchartButtonEl.classList.add('colab-df-spinner');\n",
              "      try {\n",
              "        const charts = await google.colab.kernel.invokeFunction(\n",
              "            'suggestCharts', [key], {});\n",
              "      } catch (error) {\n",
              "        console.error('Error during call to suggestCharts:', error);\n",
              "      }\n",
              "      quickchartButtonEl.classList.remove('colab-df-spinner');\n",
              "      quickchartButtonEl.classList.add('colab-df-quickchart-complete');\n",
              "    }\n",
              "    (() => {\n",
              "      let quickchartButtonEl =\n",
              "        document.querySelector('#df-1e9a3b9b-4b24-4629-859e-8b0f0624093c button');\n",
              "      quickchartButtonEl.style.display =\n",
              "        google.colab.kernel.accessAllowed ? 'block' : 'none';\n",
              "    })();\n",
              "  </script>\n",
              "</div>\n",
              "\n",
              "    </div>\n",
              "  </div>\n"
            ],
            "application/vnd.google.colaboratory.intrinsic+json": {
              "type": "dataframe",
              "variable_name": "df",
              "summary": "{\n  \"name\": \"df\",\n  \"rows\": 100,\n  \"fields\": [\n    {\n      \"column\": \"padded_audio\",\n      \"properties\": {\n        \"dtype\": \"object\",\n        \"semantic_type\": \"\",\n        \"description\": \"\"\n      }\n    },\n    {\n      \"column\": \"padded_text\",\n      \"properties\": {\n        \"dtype\": \"object\",\n        \"semantic_type\": \"\",\n        \"description\": \"\"\n      }\n    }\n  ]\n}"
            }
          },
          "metadata": {},
          "execution_count": 13
        }
      ]
    },
    {
      "cell_type": "code",
      "source": [
        "print(df.iloc[0])"
      ],
      "metadata": {
        "id": "n0TxA3facu5o",
        "colab": {
          "base_uri": "https://localhost:8080/"
        },
        "outputId": "5adf38bc-1d10-43d9-cede-5b55dbce8dce"
      },
      "execution_count": 14,
      "outputs": [
        {
          "output_type": "stream",
          "name": "stdout",
          "text": [
            "padded_audio    [[568.0, 568.0, 568.0, 568.0, 568.0, 568.0, 56...\n",
            "padded_text     [2.0, 41.0, 1.0, 62670.0, 1.0, 62670.0, 41.0, ...\n",
            "Name: 0, dtype: object\n"
          ]
        }
      ]
    },
    {
      "cell_type": "code",
      "source": [
        "type(df['padded_audio'].iloc[1])"
      ],
      "metadata": {
        "id": "YVd3BvnF5w_d",
        "colab": {
          "base_uri": "https://localhost:8080/"
        },
        "outputId": "82ef7e4d-7c81-43c8-a0de-35173dc99c84"
      },
      "execution_count": 15,
      "outputs": [
        {
          "output_type": "execute_result",
          "data": {
            "text/plain": [
              "numpy.ndarray"
            ]
          },
          "metadata": {},
          "execution_count": 15
        }
      ]
    },
    {
      "cell_type": "code",
      "source": [
        "type(df['padded_text'].iloc[1])"
      ],
      "metadata": {
        "id": "OURCFYGhYUQ9",
        "colab": {
          "base_uri": "https://localhost:8080/"
        },
        "outputId": "918800d3-317b-4961-d9f0-46d4d09bfa46"
      },
      "execution_count": 16,
      "outputs": [
        {
          "output_type": "execute_result",
          "data": {
            "text/plain": [
              "numpy.ndarray"
            ]
          },
          "metadata": {},
          "execution_count": 16
        }
      ]
    },
    {
      "cell_type": "code",
      "source": [
        "df.to_json('final_dataset.json', orient='records')"
      ],
      "metadata": {
        "id": "_oLevbgp-qQH"
      },
      "execution_count": 17,
      "outputs": []
    },
    {
      "cell_type": "markdown",
      "source": [
        "---"
      ],
      "metadata": {
        "id": "ThA-gb7O8iFK"
      }
    }
  ],
  "metadata": {
    "colab": {
      "provenance": [],
      "gpuType": "T4",
      "authorship_tag": "ABX9TyOyQ4c/+EPFuKTzHIYKOQdK",
      "include_colab_link": true
    },
    "kernelspec": {
      "display_name": "Python 3",
      "name": "python3"
    },
    "language_info": {
      "name": "python"
    },
    "accelerator": "GPU"
  },
  "nbformat": 4,
  "nbformat_minor": 0
}